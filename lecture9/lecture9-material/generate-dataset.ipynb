{
 "cells": [
  {
   "cell_type": "markdown",
   "id": "b1d685d7",
   "metadata": {},
   "source": [
    "## Generating a dataset\n",
    "\n",
    "Purpose: We want to assess the correlation of structure (e.g. lipophilicity) of some molecules with their inhibitory activity for Acetylcholinesterase (AChE). First of all:\n",
    "\n",
    "Import dependencies and load the two datasets for activities (ChEMBL) and molecular descriptors (PubChem)."
   ]
  },
  {
   "cell_type": "code",
   "execution_count": null,
   "id": "c6d94d55",
   "metadata": {},
   "outputs": [],
   "source": [
    "import pandas as pd\n",
    "import matplotlib.pyplot as plt\n",
    "import seaborn as sns\n",
    "\n",
    "# Load both datasets\n",
    "act = pd.read_csv(\"ache_activities.csv\")\n",
    "desc = pd.read_csv(\"ache_pubchem_descriptors.csv\")\n",
    "\n",
    "# Keep only relevant columns from ChEMBL\n",
    "act = act[[\"canonical_smiles\", \"pchembl_value\", \"standard_relation\", \"standard_type\"]]\n",
    "\n",
    "# Aggregate (some SMILES might appear multiple times → average or median)\n",
    "act = act.groupby(\"canonical_smiles\", as_index=False)[\"pchembl_value\"].median()\n",
    "\n"
   ]
  },
  {
   "cell_type": "markdown",
   "id": "593c1c27",
   "metadata": {},
   "source": [
    "Inspect the two datasets."
   ]
  },
  {
   "cell_type": "code",
   "execution_count": null,
   "id": "abdd9d78",
   "metadata": {},
   "outputs": [],
   "source": [
    "act.head()"
   ]
  },
  {
   "cell_type": "markdown",
   "id": "bb597ea9",
   "metadata": {},
   "source": [
    "Combine the two datasets."
   ]
  },
  {
   "cell_type": "code",
   "execution_count": null,
   "id": "dc312e35",
   "metadata": {},
   "outputs": [],
   "source": [
    "# Merge on canonical_smiles, how=\"inner\" drops all rows which are only contained in one df\n",
    "merged = pd.merge(act, desc, on=\"canonical_smiles\", how=\"inner\") \n",
    "\n",
    "print(f\"Merged dataset: {len(merged)} entries\")\n",
    "merged.head()"
   ]
  },
  {
   "cell_type": "markdown",
   "id": "97f3ba10",
   "metadata": {},
   "source": [
    "Now, inspect the combined dataframe. Look for abnomalies, i.e. duplicates and missing data."
   ]
  },
  {
   "cell_type": "code",
   "execution_count": null,
   "id": "5d9196f3",
   "metadata": {},
   "outputs": [],
   "source": []
  },
  {
   "cell_type": "markdown",
   "id": "39de39bb",
   "metadata": {},
   "source": [
    "Decide what to do with the bad data points and proceed. Make sure to document properly and preserve the original dataframe."
   ]
  },
  {
   "cell_type": "code",
   "execution_count": null,
   "id": "c143e665",
   "metadata": {},
   "outputs": [],
   "source": []
  },
  {
   "cell_type": "markdown",
   "id": "69e88702",
   "metadata": {},
   "source": [
    "Run a quick EDA on the cleaned dataset including some plots. What can you conclude?"
   ]
  },
  {
   "cell_type": "code",
   "execution_count": null,
   "id": "3f36028c",
   "metadata": {},
   "outputs": [],
   "source": []
  },
  {
   "cell_type": "markdown",
   "id": "2f75f118",
   "metadata": {},
   "source": [
    "Export the cleaned dataset as \"ache_qsar_data.csv\"."
   ]
  },
  {
   "cell_type": "code",
   "execution_count": null,
   "id": "40cdc914",
   "metadata": {},
   "outputs": [],
   "source": []
  }
 ],
 "metadata": {
  "kernelspec": {
   "display_name": "lecture9",
   "language": "python",
   "name": "python3"
  },
  "language_info": {
   "codemirror_mode": {
    "name": "ipython",
    "version": 3
   },
   "file_extension": ".py",
   "mimetype": "text/x-python",
   "name": "python",
   "nbconvert_exporter": "python",
   "pygments_lexer": "ipython3",
   "version": "3.13.7"
  }
 },
 "nbformat": 4,
 "nbformat_minor": 5
}
