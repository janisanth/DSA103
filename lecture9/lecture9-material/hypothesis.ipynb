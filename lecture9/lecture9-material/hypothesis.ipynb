{
 "cells": [
  {
   "cell_type": "markdown",
   "id": "b1d685d7",
   "metadata": {},
   "source": [
    "## Generating and testing a hypothesis\n",
    "\n",
    "Purpose: We want to assess the correlation of structure (e.g. lipophilicity) of some molecules with their inhibitory activity for Acetylcholinesterase (AChE). \n",
    "\n",
    "We have already seen that the correlation doesn't seem to be too strong, but is it statistically significant? Hence our hypothesis is still: \"High lipohilicity (XlogP) leads to higher potency (pchembl_value)\".\n",
    "\n",
    "Import dependencies and load the combined dataset for assessing our \"quantitative structure-activity relationship\" (QSAR)."
   ]
  },
  {
   "cell_type": "code",
   "execution_count": null,
   "id": "c6d94d55",
   "metadata": {},
   "outputs": [],
   "source": [
    "import pandas as pd\n",
    "import matplotlib.pyplot as plt\n",
    "import seaborn as sns\n",
    "from scipy import stats\n",
    "\n",
    "# Load both datasets\n",
    "df = pd.read_csv(\"ache_qsar_data.csv\")\n",
    "df.head()\n",
    "\n"
   ]
  },
  {
   "cell_type": "markdown",
   "id": "172f4878",
   "metadata": {},
   "source": [
    "Produce a scatterplot of the columns \"XLogP\" and \"pchembl_value\"."
   ]
  },
  {
   "cell_type": "code",
   "execution_count": null,
   "id": "d12944cf",
   "metadata": {},
   "outputs": [],
   "source": [
    "# Quick scatter plot\n",
    "plt.scatter(df[\"XLogP\"], df[\"pchembl_value\"])\n",
    "plt.xlabel(\"XLogP\")\n",
    "plt.ylabel(\"pChEMBL activity\")\n",
    "plt.title(\"Lipophilicity vs. Inhibitory Activity (AChE)\")\n",
    "plt.show()\n"
   ]
  },
  {
   "cell_type": "markdown",
   "id": "c07d4007",
   "metadata": {},
   "source": [
    "To test our hypothesis, we will have a look at highly lipophilic molecules and compare them to the rest. The null-hypothesis is that for both groups, the mean will be the same (mean_low = mean_high).\n",
    "\n",
    "First, let's create a new column \"high_logp\" with the condition to XLogP > 3 to start with."
   ]
  },
  {
   "cell_type": "code",
   "execution_count": null,
   "id": "ddc5d2c2",
   "metadata": {},
   "outputs": [],
   "source": [
    "# Define high/low lipophilicity groups\n",
    "df[\"high_logp\"] = df[\"XLogP\"] > 5\n",
    "df.head()\n"
   ]
  },
  {
   "cell_type": "markdown",
   "id": "a03fbaae",
   "metadata": {},
   "source": [
    "Now, calculate the means for all low_logp and high_logp molecules. For this, use the \"high_logp\" column to create two groups. Compare their size and their variance."
   ]
  },
  {
   "cell_type": "code",
   "execution_count": null,
   "id": "5f3d1eea",
   "metadata": {},
   "outputs": [],
   "source": [
    "\n"
   ]
  },
  {
   "cell_type": "markdown",
   "id": "5b9b1ecd",
   "metadata": {},
   "source": [
    "Now, run a two-sample t-test to assess our null-hypothesis (\"the means of the two groups are equal\"). If the p_value is lower than 0.05, we can reject the null-hypothesis and our alternative hypothesis is true, i.e. there is a significant difference between the two means (which tells us that the higher lipophilicity leads to increased activity)."
   ]
  },
  {
   "cell_type": "code",
   "execution_count": null,
   "id": "80db430e",
   "metadata": {},
   "outputs": [],
   "source": [
    "# t-test\n",
    "\n",
    "t_value, p_value = stats.ttest_ind(group_high, group_low, equal_var=False, nan_policy=\"omit\")\n",
    "print(f\"t_value = {t_value:.2f}, p_value = {p_value:.4f}\")"
   ]
  },
  {
   "cell_type": "code",
   "execution_count": null,
   "id": "6d486b69",
   "metadata": {},
   "outputs": [],
   "source": []
  }
 ],
 "metadata": {
  "kernelspec": {
   "display_name": "prep_lecture9",
   "language": "python",
   "name": "python3"
  },
  "language_info": {
   "codemirror_mode": {
    "name": "ipython",
    "version": 3
   },
   "file_extension": ".py",
   "mimetype": "text/x-python",
   "name": "python",
   "nbconvert_exporter": "python",
   "pygments_lexer": "ipython3",
   "version": "3.13.7"
  }
 },
 "nbformat": 4,
 "nbformat_minor": 5
}
