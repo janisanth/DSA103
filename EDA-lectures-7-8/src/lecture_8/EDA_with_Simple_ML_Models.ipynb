{
 "cells": [
  {
   "cell_type": "markdown",
   "id": "a5fae6af",
   "metadata": {},
   "source": [
    "# Exploratory Data Analysis with Simple ML Models\n",
    "This notebook demonstrates how simple machine learning models can be used as *exploratory tools* to assess data structure and quality."
   ]
  },
  {
   "cell_type": "code",
   "execution_count": null,
   "id": "ea182711",
   "metadata": {},
   "outputs": [],
   "source": [
    "# Import libraries\n",
    "import pandas as pd\n",
    "import numpy as np\n",
    "import matplotlib.pyplot as plt\n",
    "import seaborn as sns\n",
    "\n",
    "from sklearn.datasets import load_iris\n",
    "from sklearn.model_selection import train_test_split, cross_val_score\n",
    "from sklearn.tree import DecisionTreeClassifier, plot_tree\n",
    "from sklearn.linear_model import LogisticRegression\n",
    "from sklearn.decomposition import PCA\n",
    "from sklearn.metrics import confusion_matrix, ConfusionMatrixDisplay\n",
    "\n"
   ]
  },
  {
   "cell_type": "markdown",
   "id": "fa569d4c",
   "metadata": {},
   "source": [
    "## 1. Load and Inspect the Data"
   ]
  },
  {
   "cell_type": "code",
   "execution_count": null,
   "id": "3ce7981e",
   "metadata": {},
   "outputs": [],
   "source": [
    "iris = load_iris(as_frame=True)\n",
    "df = iris.frame\n"
   ]
  },
  {
   "cell_type": "code",
   "execution_count": null,
   "id": "aa457ecf",
   "metadata": {},
   "outputs": [],
   "source": []
  },
  {
   "cell_type": "code",
   "execution_count": null,
   "id": "feb0b317",
   "metadata": {},
   "outputs": [],
   "source": [
    "sns.pairplot(df, hue='target', diag_kind='kde')\n",
    "plt.suptitle(\"Pairwise relationships in the Iris dataset\", y=1.02)\n",
    "plt.show()"
   ]
  },
  {
   "cell_type": "markdown",
   "id": "eb83152e",
   "metadata": {},
   "source": [
    "## 2. Recap Dimensionality Reduction (PCA)"
   ]
  },
  {
   "cell_type": "code",
   "execution_count": null,
   "id": "e3b94dd5",
   "metadata": {},
   "outputs": [],
   "source": [
    "X = df[iris.feature_names]\n",
    "y = df['target']\n",
    "\n",
    "pca = PCA(n_components=2)\n",
    "X_pca = pca.fit_transform(X)\n",
    "\n",
    "plt.figure(figsize=(6,5))\n",
    "sns.scatterplot(x=X_pca[:,0], y=X_pca[:,1], hue=y, palette='Set1')\n",
    "plt.title(\"PCA projection of the Iris dataset\")\n",
    "plt.xlabel(\"PC1\")\n",
    "plt.ylabel(\"PC2\")\n",
    "plt.show()\n",
    "\n",
    "print(f\"PC1 ({pca.explained_variance_ratio_[0]*100:.1f}% variance)\")\n",
    "print(f\"PC2 ({pca.explained_variance_ratio_[1]*100:.1f}% variance)\")"
   ]
  },
  {
   "cell_type": "markdown",
   "id": "a8ff672c",
   "metadata": {},
   "source": [
    "## 3. Using Simple ML Models as EDA Tools"
   ]
  },
  {
   "cell_type": "markdown",
   "id": "770ae1ce",
   "metadata": {},
   "source": [
    "Pseudorandom split the data in training data and test data for evaluating the prediction. The stratify parameter ensures that the targets are evenly represented in the split data sets"
   ]
  },
  {
   "cell_type": "code",
   "execution_count": null,
   "id": "3d9d895c",
   "metadata": {},
   "outputs": [],
   "source": [
    "X_train, X_test, y_train, y_test = train_test_split(\n",
    "    X, y, test_size=0.3, random_state=42, stratify=y)"
   ]
  },
  {
   "cell_type": "markdown",
   "id": "cbc4f40f",
   "metadata": {},
   "source": [
    "### a) Logistic Regression\n",
    "\n",
    "Is a regression model suitable for a classification problem?"
   ]
  },
  {
   "cell_type": "code",
   "execution_count": null,
   "id": "a22f4d1f",
   "metadata": {},
   "outputs": [],
   "source": [
    "logreg = LogisticRegression(max_iter=200)\n",
    "logreg.fit(X_train, y_train)\n",
    "\n",
    "print(\"Train accuracy:\", logreg.score(X_train, y_train))\n",
    "print(\"Test accuracy:\", logreg.score(X_test, y_test))"
   ]
  },
  {
   "cell_type": "code",
   "execution_count": null,
   "id": "12544613",
   "metadata": {},
   "outputs": [],
   "source": [
    "ConfusionMatrixDisplay.from_estimator(logreg, X_test, y_test)\n",
    "plt.title(\"Confusion Matrix – Logistic Regression\")\n",
    "plt.show()"
   ]
  },
  {
   "cell_type": "markdown",
   "id": "c0fed7d1",
   "metadata": {},
   "source": [
    "### b) Decision Tree Classifier"
   ]
  },
  {
   "cell_type": "code",
   "execution_count": null,
   "id": "9593303e",
   "metadata": {},
   "outputs": [],
   "source": [
    "tree = DecisionTreeClassifier(max_depth=3, random_state=42)\n",
    "tree.fit(X_train, y_train)\n",
    "\n",
    "print(\"Train accuracy:\", tree.score(X_train, y_train))\n",
    "print(\"Test accuracy:\", tree.score(X_test, y_test))\n",
    "\n",
    "ConfusionMatrixDisplay.from_estimator(tree, X_test, y_test)\n",
    "plt.title(\"Confusion Matrix – Decision Tree\")\n",
    "plt.show()"
   ]
  },
  {
   "cell_type": "code",
   "execution_count": null,
   "id": "958f556c",
   "metadata": {},
   "outputs": [],
   "source": [
    "feat_importances = pd.Series(tree.feature_importances_, index=iris.feature_names)\n",
    "feat_importances.sort_values().plot(kind='barh')\n",
    "plt.title(\"Feature Importances (Decision Tree)\")\n",
    "plt.show()"
   ]
  },
  {
   "cell_type": "code",
   "execution_count": null,
   "id": "b4b62d56",
   "metadata": {},
   "outputs": [],
   "source": [
    "plt.figure(figsize=(12,8))\n",
    "plot_tree(\n",
    "    tree,\n",
    "    feature_names=iris.feature_names,\n",
    "    class_names=iris.target_names,\n",
    "    filled=True,\n",
    "    rounded=True,\n",
    "    fontsize=10\n",
    ")\n",
    "plt.title(\"Decision Tree for the Iris Dataset (max_depth=3)\")\n",
    "plt.show()"
   ]
  },
  {
   "cell_type": "markdown",
   "id": "c2e3bbf6",
   "metadata": {},
   "source": [
    "## 4. Quick Model Diagnostics"
   ]
  },
  {
   "cell_type": "markdown",
   "id": "1bc87766",
   "metadata": {},
   "source": [
    "Testing generalisation by cross validation"
   ]
  },
  {
   "cell_type": "code",
   "execution_count": null,
   "id": "c376e7b7",
   "metadata": {},
   "outputs": [],
   "source": [
    "cv_scores = cross_val_score(tree, X, y, cv=5)\n",
    "print(\"Cross-validation scores:\", cv_scores)\n",
    "print(\"Mean accuracy:\", cv_scores.mean())"
   ]
  },
  {
   "cell_type": "code",
   "execution_count": null,
   "id": "ee4d2163",
   "metadata": {},
   "outputs": [],
   "source": [
    "X_pca_full = PCA(n_components=2).fit_transform(X)\n",
    "tree.fit(X_pca_full, y)\n",
    "print(\"Decision Tree accuracy on 2D PCA features:\", cross_val_score(tree, X_pca_full, y, cv=5).mean())"
   ]
  },
  {
   "cell_type": "markdown",
   "id": "304a9b2f",
   "metadata": {},
   "source": [
    "## 5. Wrap-Up & Reflection"
   ]
  },
  {
   "cell_type": "code",
   "execution_count": null,
   "id": "d788341a",
   "metadata": {},
   "outputs": [],
   "source": [
    "tree = DecisionTreeClassifier(max_depth=3, random_state=42)\n",
    "tree.fit(X_train, y_train)"
   ]
  },
  {
   "cell_type": "code",
   "execution_count": null,
   "id": "f57cdc69",
   "metadata": {},
   "outputs": [],
   "source": [
    "summary = pd.DataFrame({\n",
    "    \"Model\": [\"Logistic Regression\", \"Decision Tree (depth=3)\"],\n",
    "    \"Train Accuracy\": [logreg.score(X_train, y_train), tree.score(X_train, y_train)],\n",
    "    \"Test Accuracy\": [logreg.score(X_test, y_test), tree.score(X_test, y_test)]\n",
    "})\n",
    "summary"
   ]
  },
  {
   "cell_type": "markdown",
   "id": "136ebe67",
   "metadata": {},
   "source": [
    "What can we take away from this?"
   ]
  }
 ],
 "metadata": {
  "kernelspec": {
   "display_name": "python-chemistry-intro",
   "language": "python",
   "name": "python3"
  },
  "language_info": {
   "codemirror_mode": {
    "name": "ipython",
    "version": 3
   },
   "file_extension": ".py",
   "mimetype": "text/x-python",
   "name": "python",
   "nbconvert_exporter": "python",
   "pygments_lexer": "ipython3",
   "version": "3.13.7"
  }
 },
 "nbformat": 4,
 "nbformat_minor": 5
}
