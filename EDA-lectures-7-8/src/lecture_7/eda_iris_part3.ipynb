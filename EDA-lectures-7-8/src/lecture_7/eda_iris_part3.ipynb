{
 "cells": [
  {
   "cell_type": "markdown",
   "id": "b916a9a6",
   "metadata": {},
   "source": [
    "## EDA: iris dataset - part 3: PCA\n",
    "\n",
    "PCA allows to reduce our datasets dimensions without sacrificing too much information. Note: PCA is a linear combination of features and tries to maximise the variance. The first PC will be the direction of maximum variance, the second one is orthogonal to that.\n",
    "\n",
    "First, import the dependencies:"
   ]
  },
  {
   "cell_type": "code",
   "execution_count": null,
   "id": "e155445c",
   "metadata": {},
   "outputs": [],
   "source": [
    "import pandas as pd\n",
    "from sklearn.preprocessing import StandardScaler\n",
    "from sklearn.decomposition import PCA\n",
    "import seaborn as sns\n",
    "import matplotlib.pyplot as plt"
   ]
  },
  {
   "cell_type": "markdown",
   "id": "a46b1b21",
   "metadata": {},
   "source": [
    "Then import our data set as iris:"
   ]
  },
  {
   "cell_type": "code",
   "execution_count": null,
   "id": "6d6f02ba",
   "metadata": {},
   "outputs": [],
   "source": [
    "iris = pd.read_csv(r\"C:\\Users\\jschoer\\Desktop\\DSA103 Coding and Tests\\DSA103\\python-chemistry-intro\\src\\dsa103\\lecture 7\\DSA_iris_cleaned.csv\")\n",
    "iris.head()"
   ]
  },
  {
   "cell_type": "markdown",
   "id": "4ff04bfe",
   "metadata": {},
   "source": [
    "1. Separate (numerical) features for PCA from the targets (\"species\"):"
   ]
  },
  {
   "cell_type": "code",
   "execution_count": null,
   "id": "5ddfaa13",
   "metadata": {},
   "outputs": [],
   "source": [
    "X = iris.drop([\"species\"], axis=1)\n",
    "y = iris[\"species\"]"
   ]
  },
  {
   "cell_type": "markdown",
   "id": "282a4e03",
   "metadata": {},
   "source": [
    "2. Standardise (substract mean and divide by std. deviation)"
   ]
  },
  {
   "cell_type": "code",
   "execution_count": null,
   "id": "4113e3d9",
   "metadata": {},
   "outputs": [],
   "source": [
    "scaler = StandardScaler()\n",
    "X_scaled = scaler.fit_transform(X)"
   ]
  },
  {
   "cell_type": "markdown",
   "id": "b002bf65",
   "metadata": {},
   "source": [
    "3. Apply PCA (specify the targeted number of dimensions)"
   ]
  },
  {
   "cell_type": "code",
   "execution_count": null,
   "id": "4af884ed",
   "metadata": {},
   "outputs": [],
   "source": [
    "pca = PCA(n_components=2)\n",
    "X_pca = pca.fit_transform(X_scaled)"
   ]
  },
  {
   "cell_type": "markdown",
   "id": "7bdd4ed6",
   "metadata": {},
   "source": [
    "4. Combine for plotting"
   ]
  },
  {
   "cell_type": "code",
   "execution_count": null,
   "id": "23c6cb32",
   "metadata": {},
   "outputs": [],
   "source": [
    "df_pca = pd.DataFrame(X_pca, columns=[\"PC1\", \"PC2\"])\n",
    "df_pca[\"target\"] = y"
   ]
  },
  {
   "cell_type": "markdown",
   "id": "a2051fcd",
   "metadata": {},
   "source": [
    "5. Visualize as scatter plot"
   ]
  },
  {
   "cell_type": "code",
   "execution_count": null,
   "id": "0960e67d",
   "metadata": {},
   "outputs": [],
   "source": [
    "sns.scatterplot(data=df_pca, x=\"PC1\", y=\"PC2\", hue=\"target\", s=80)\n",
    "plt.title(\"PCA Visualization\")\n",
    "plt.xlabel(f\"PC1 ({pca.explained_variance_ratio_[0]*100:.1f}% variance)\")\n",
    "plt.ylabel(f\"PC2 ({pca.explained_variance_ratio_[1]*100:.1f}% variance)\")\n",
    "plt.show()"
   ]
  },
  {
   "cell_type": "markdown",
   "id": "3afb6996",
   "metadata": {},
   "source": [
    "Compare that with the scatter plots of the untransformed iris data:"
   ]
  },
  {
   "cell_type": "code",
   "execution_count": null,
   "id": "9f854377",
   "metadata": {},
   "outputs": [],
   "source": [
    "sns.pairplot(iris, hue='species', diag_kind='kde')\n",
    "plt.suptitle('Pairplot of Features by Species', y=1.02)\n",
    "plt.show()"
   ]
  },
  {
   "cell_type": "code",
   "execution_count": null,
   "id": "88a70e01",
   "metadata": {},
   "outputs": [],
   "source": []
  }
 ],
 "metadata": {
  "kernelspec": {
   "display_name": "python-chemistry-intro",
   "language": "python",
   "name": "python3"
  },
  "language_info": {
   "codemirror_mode": {
    "name": "ipython",
    "version": 3
   },
   "file_extension": ".py",
   "mimetype": "text/x-python",
   "name": "python",
   "nbconvert_exporter": "python",
   "pygments_lexer": "ipython3",
   "version": "3.13.7"
  }
 },
 "nbformat": 4,
 "nbformat_minor": 5
}
