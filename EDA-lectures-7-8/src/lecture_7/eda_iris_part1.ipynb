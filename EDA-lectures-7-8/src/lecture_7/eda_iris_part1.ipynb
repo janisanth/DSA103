{
 "cells": [
  {
   "cell_type": "markdown",
   "id": "4fce323f",
   "metadata": {},
   "source": [
    "## EDA: iris dataset - part 1: Basic exploration"
   ]
  },
  {
   "cell_type": "markdown",
   "id": "fcedbc9f",
   "metadata": {},
   "source": [
    "### Preparations\n",
    "\n",
    "Import libraries"
   ]
  },
  {
   "cell_type": "code",
   "execution_count": null,
   "id": "a5674e05",
   "metadata": {},
   "outputs": [],
   "source": [
    "import pandas as pd\n",
    "import matplotlib.pyplot as plt\n",
    "import seaborn as sns"
   ]
  },
  {
   "cell_type": "markdown",
   "id": "ab82fe1e",
   "metadata": {},
   "source": [
    "1) Load iris dataset as iris:"
   ]
  },
  {
   "cell_type": "code",
   "execution_count": null,
   "id": "3ce457c2",
   "metadata": {},
   "outputs": [],
   "source": [
    "# Load the iris dataset\n",
    "iris = pd.read_csv(r\"C:\\Users\\jschoer\\Desktop\\DSA103 Coding and Tests\\DSA103\\python-chemistry-intro\\src\\dsa103\\lecture 7\\DSA_iris_dataset.csv\")\n",
    "iris.head()"
   ]
  },
  {
   "cell_type": "markdown",
   "id": "9fd3f04d",
   "metadata": {},
   "source": [
    "2) Overview: head, size, shape, info..."
   ]
  },
  {
   "cell_type": "code",
   "execution_count": null,
   "id": "e2e001ca",
   "metadata": {},
   "outputs": [],
   "source": [
    "iris.info()"
   ]
  },
  {
   "cell_type": "markdown",
   "id": "25a8253a",
   "metadata": {},
   "source": [
    "3) Quick statistics and summary (value_counts, max, min, describe, nlargest, nsmallest, nunique):"
   ]
  },
  {
   "cell_type": "code",
   "execution_count": null,
   "id": "d643a545",
   "metadata": {},
   "outputs": [],
   "source": [
    "iris.describe()"
   ]
  },
  {
   "cell_type": "code",
   "execution_count": null,
   "id": "22206905",
   "metadata": {},
   "outputs": [],
   "source": [
    "iris.nunique(axis=0)"
   ]
  },
  {
   "cell_type": "code",
   "execution_count": null,
   "id": "3a5fd261",
   "metadata": {},
   "outputs": [],
   "source": []
  },
  {
   "cell_type": "markdown",
   "id": "dbfd9a51",
   "metadata": {},
   "source": [
    "4) Missing data (isnull) and duplicates (duplicated)"
   ]
  },
  {
   "cell_type": "code",
   "execution_count": null,
   "id": "c1966e0f",
   "metadata": {},
   "outputs": [],
   "source": [
    "iris.duplicated().any()"
   ]
  },
  {
   "cell_type": "code",
   "execution_count": null,
   "id": "38d6fbb7",
   "metadata": {},
   "outputs": [],
   "source": [
    "iris[iris.duplicated()==True]"
   ]
  },
  {
   "cell_type": "markdown",
   "id": "ab8ddc4e",
   "metadata": {},
   "source": [
    "5) Drop unnecessary columns and rename columns"
   ]
  },
  {
   "cell_type": "code",
   "execution_count": null,
   "id": "b43423e5",
   "metadata": {},
   "outputs": [],
   "source": [
    "iris.drop(columns=[\"target\"], axis=1, inplace=True)"
   ]
  },
  {
   "cell_type": "code",
   "execution_count": null,
   "id": "ad9a4c1a",
   "metadata": {},
   "outputs": [],
   "source": [
    "iris.rename(columns={\"petal l. / cm\":\"petal length (cm)\", \"petal w. / cm\":\"petal width (cm)\"}, inplace=True)"
   ]
  },
  {
   "cell_type": "code",
   "execution_count": null,
   "id": "9e5ae97c",
   "metadata": {},
   "outputs": [],
   "source": [
    "iris.head()"
   ]
  },
  {
   "cell_type": "code",
   "execution_count": null,
   "id": "1b6e6e10",
   "metadata": {},
   "outputs": [],
   "source": [
    "iris.iloc[33,1] = 4.2"
   ]
  },
  {
   "cell_type": "code",
   "execution_count": null,
   "id": "cb4cca75",
   "metadata": {},
   "outputs": [],
   "source": [
    "iris[\"sepal width (cm)\"].nlargest(3)"
   ]
  },
  {
   "cell_type": "markdown",
   "id": "15e9d3c7",
   "metadata": {},
   "source": [
    "6) Export cleaned dataset as \"DSA_iris_cleaned.csv\" into the same folder"
   ]
  },
  {
   "cell_type": "code",
   "execution_count": null,
   "id": "45f35b1f",
   "metadata": {},
   "outputs": [],
   "source": [
    "iris.to_csv(\"DSA_iris_cleaned.csv\", index=False)"
   ]
  },
  {
   "cell_type": "markdown",
   "id": "bad3559d",
   "metadata": {},
   "source": []
  }
 ],
 "metadata": {
  "kernelspec": {
   "display_name": "python-chemistry-intro",
   "language": "python",
   "name": "python3"
  },
  "language_info": {
   "codemirror_mode": {
    "name": "ipython",
    "version": 3
   },
   "file_extension": ".py",
   "mimetype": "text/x-python",
   "name": "python",
   "nbconvert_exporter": "python",
   "pygments_lexer": "ipython3",
   "version": "3.13.7"
  }
 },
 "nbformat": 4,
 "nbformat_minor": 5
}
