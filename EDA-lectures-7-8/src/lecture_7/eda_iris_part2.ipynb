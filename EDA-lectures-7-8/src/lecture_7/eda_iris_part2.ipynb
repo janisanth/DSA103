{
 "cells": [
  {
   "cell_type": "markdown",
   "id": "4fce323f",
   "metadata": {},
   "source": [
    "## EDA: iris dataset - part 2: visualisations"
   ]
  },
  {
   "cell_type": "markdown",
   "id": "fcedbc9f",
   "metadata": {},
   "source": [
    "### Preparations\n",
    "\n",
    "Import libraries"
   ]
  },
  {
   "cell_type": "code",
   "execution_count": null,
   "id": "a5674e05",
   "metadata": {},
   "outputs": [],
   "source": [
    "import pandas as pd\n",
    "import matplotlib.pyplot as plt\n",
    "import seaborn as sns"
   ]
  },
  {
   "cell_type": "markdown",
   "id": "ab82fe1e",
   "metadata": {},
   "source": [
    "Load cleaned dataset as iris."
   ]
  },
  {
   "cell_type": "code",
   "execution_count": null,
   "id": "3ce457c2",
   "metadata": {},
   "outputs": [],
   "source": [
    "# Load the iris dataset\n",
    "iris = pd.read_csv(r\"C:\\Users\\jschoer\\Desktop\\DSA103 Coding and Tests\\DSA103\\python-chemistry-intro\\src\\dsa103\\lecture 7\\DSA_iris_cleaned.csv\")\n",
    "iris.head()"
   ]
  },
  {
   "cell_type": "markdown",
   "id": "67b72a32",
   "metadata": {},
   "source": [
    "### Univariate analysis"
   ]
  },
  {
   "cell_type": "code",
   "execution_count": null,
   "id": "5eb90d78",
   "metadata": {},
   "outputs": [],
   "source": [
    "# Histograms: Distribution of each numerical feature\n",
    "iris.hist(figsize=(10, 8), bins=15)\n",
    "plt.suptitle('Feature Distributions', fontsize=16)\n",
    "plt.show()"
   ]
  },
  {
   "cell_type": "code",
   "execution_count": null,
   "id": "0a7cff5f",
   "metadata": {},
   "outputs": [],
   "source": [
    "# Boxplots to check for outliers\n",
    "plt.figure(figsize=(10, 6))\n",
    "sns.boxplot(data=iris)\n",
    "plt.title('Boxplot of All Features')\n",
    "plt.show()"
   ]
  },
  {
   "cell_type": "markdown",
   "id": "b4cd7a83",
   "metadata": {},
   "source": [
    "### Bivariate analysis"
   ]
  },
  {
   "cell_type": "code",
   "execution_count": null,
   "id": "4d401317",
   "metadata": {},
   "outputs": [],
   "source": [
    "# Pairplot: scatter plots between all numeric variables\n",
    "sns.pairplot(iris, hue='species', diag_kind='kde')\n",
    "plt.suptitle('Pairplot of Features by Species', y=1.02)\n",
    "plt.show()"
   ]
  },
  {
   "cell_type": "code",
   "execution_count": null,
   "id": "06cdb455",
   "metadata": {},
   "outputs": [],
   "source": [
    "# Correlation heatmap of all features\n",
    "plt.figure(figsize=(8, 6))\n",
    "sns.heatmap(iris.corr(numeric_only=True), annot=True, cmap='coolwarm', fmt='.2f')\n",
    "plt.title('Correlation Heatmap')\n",
    "plt.show()"
   ]
  },
  {
   "cell_type": "markdown",
   "id": "87a6de76",
   "metadata": {},
   "source": [
    "### Grouped analysis\n",
    "\n",
    "Gorup ny species and first calculate the mean, then visualise some grouped features as box plots"
   ]
  },
  {
   "cell_type": "code",
   "execution_count": null,
   "id": "11eb029f",
   "metadata": {},
   "outputs": [],
   "source": [
    "# Mean of features per species\n",
    "print(\"\\nMean feature values per species:\")\n",
    "print(iris.groupby('species').mean())"
   ]
  },
  {
   "cell_type": "code",
   "execution_count": null,
   "id": "318667ae",
   "metadata": {},
   "outputs": [],
   "source": [
    "plt.figure(figsize=(10, 6))\n",
    "sns.boxplot(x='species', y='petal length (cm)', data=iris)\n",
    "plt.title('Petal Length by Species')\n",
    "plt.show()"
   ]
  },
  {
   "cell_type": "code",
   "execution_count": null,
   "id": "a96e0e6d",
   "metadata": {},
   "outputs": [],
   "source": [
    "plt.figure(figsize=(10, 6))\n",
    "sns.boxplot(x='species', y='sepal length (cm)', data=iris)\n",
    "plt.title('Sepal Length by Species')\n",
    "plt.show()"
   ]
  },
  {
   "cell_type": "code",
   "execution_count": null,
   "id": "8be0a08e",
   "metadata": {},
   "outputs": [],
   "source": []
  }
 ],
 "metadata": {
  "kernelspec": {
   "display_name": "python-chemistry-intro",
   "language": "python",
   "name": "python3"
  },
  "language_info": {
   "codemirror_mode": {
    "name": "ipython",
    "version": 3
   },
   "file_extension": ".py",
   "mimetype": "text/x-python",
   "name": "python",
   "nbconvert_exporter": "python",
   "pygments_lexer": "ipython3",
   "version": "3.13.7"
  }
 },
 "nbformat": 4,
 "nbformat_minor": 5
}
